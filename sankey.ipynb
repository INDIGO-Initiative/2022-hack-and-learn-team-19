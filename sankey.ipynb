{
  "nbformat": 4,
  "nbformat_minor": 0,
  "metadata": {
    "colab": {
      "name": "Hackteam 19 Sankey.ipynb",
      "provenance": [],
      "collapsed_sections": []
    },
    "kernelspec": {
      "name": "python3",
      "display_name": "Python 3"
    },
    "language_info": {
      "name": "python"
    }
  },
  "cells": [
    {
      "cell_type": "markdown",
      "source": [
        "# Make Sankey for Project Outcomes SDG \n",
        "\n",
        "Save the team spreadsheet as a CSV and upload it as \"data.csv\""
      ],
      "metadata": {
        "id": "22tnf2Sq7LpT"
      }
    },
    {
      "cell_type": "code",
      "execution_count": null,
      "metadata": {
        "id": "PabD2EXs7IAI"
      },
      "outputs": [],
      "source": [
        "data = []\n",
        "import csv\n",
        "with open('data.csv') as csvfile:\n",
        "     reader = csv.reader(csvfile)\n",
        "     # Skip header row\n",
        "     next(reader)\n",
        "     # get data\n",
        "     for row in reader:\n",
        "        if row[1].strip() and row[11].strip():\n",
        "            item = {\n",
        "                'project_id': row[1].strip(),\n",
        "                'outcome_id': row[11].strip(),\n",
        "                'primary_goal': row[22].strip(),\n",
        "                'secondary_goals': row[23].strip().split(','),\n",
        "                'primary_target': row[24].strip(),\n",
        "                'secondary_targets': row[25].strip().split(','),\n",
        "            }\n",
        "            data.append(item)\n"
      ]
    },
    {
      "cell_type": "code",
      "source": [
        "#A class to process data\n",
        "class SanKeyData:\n",
        "    def __init__(self):\n",
        "        self.nodes_target = []\n",
        "        self.nodes_goal = []\n",
        "        self.nodes_project = []\n",
        "        self.links = {}\n",
        "\n",
        "    def add_target(self, label):\n",
        "        if label not in [n['label'] for n in self.nodes_target]:\n",
        "            self.nodes_target.append({\n",
        "                'label': label,\n",
        "                'color': 'blue'\n",
        "            })\n",
        "\n",
        "    def add_goal(self, label):\n",
        "        if label not in [n['label'] for n in self.nodes_goal]:\n",
        "            self.nodes_goal.append({\n",
        "                'label': label,\n",
        "                'color': 'blue'\n",
        "            })\n",
        "\n",
        "    def add_project(self, id):\n",
        "        if id not in [n['label'] for n in self.nodes_project]:\n",
        "            self.nodes_project.append({\n",
        "                'label': id,\n",
        "                'color': 'blue'\n",
        "            })\n",
        "\n",
        "    def add_link(self, node1, node2):\n",
        "        if node1 not in self.links:\n",
        "            self.links[node1] = {}\n",
        "\n",
        "        if node2 not in self.links[node1]:\n",
        "            self.links[node1][node2] = 0\n",
        "\n",
        "        self.links[node1][node2] += 1\n",
        "\n",
        "    def get_plotly_data(self):\n",
        "        nodes = {\n",
        "            'label': [],\n",
        "            'color': [],\n",
        "            'pad': 20,\n",
        "            'thickness': 15,\n",
        "            'line': {\n",
        "                'color': 'black',\n",
        "                'width': 1,\n",
        "            },\n",
        "        }\n",
        "        for n in self.nodes_project:\n",
        "            nodes['label'].append(n['label'])\n",
        "            nodes['color'].append(n['color'])\n",
        "        for n in self.nodes_goal:\n",
        "            nodes['label'].append(n['label'])\n",
        "            nodes['color'].append(n['color'])\n",
        "        for n in self.nodes_target:\n",
        "            nodes['label'].append(n['label'])\n",
        "            nodes['color'].append(n['color'])\n",
        "        links = {\n",
        "            'source': [],\n",
        "            'target': [],\n",
        "            'value': [],\n",
        "            'color': [],\n",
        "        }\n",
        "        for source, source_data in self.links.items():\n",
        "            for target, weight in source_data.items():\n",
        "                links['source'].append(nodes['label'].index(source))\n",
        "                links['target'].append(nodes['label'].index(target))\n",
        "                links['value'].append(weight)\n",
        "                links['color'].append('black')\n",
        "        return nodes, links\n",
        "\n",
        "\n",
        "\n",
        "        "
      ],
      "metadata": {
        "id": "5tJeHzpoBqCQ"
      },
      "execution_count": null,
      "outputs": []
    },
    {
      "cell_type": "code",
      "source": [
        "# Process data\n",
        "sankey_data = SanKeyData()\n",
        "for d in data:\n",
        "    if d['project_id'] and d['primary_goal'] and d['primary_target']:\n",
        "        sankey_data.add_project(d['project_id'])\n",
        "        sankey_data.add_goal(d['primary_goal'])\n",
        "        sankey_data.add_target(d['primary_target'])\n",
        "        sankey_data.add_link(d['primary_goal'], d['primary_target'])\n",
        "        sankey_data.add_link(d['primary_target'], d['project_id'])\n",
        "\n",
        "sankey_nodes, sankey_links = sankey_data.get_plotly_data()\n",
        "\n",
        "#print(sankey_nodes)\n",
        "#print(sankey_links)"
      ],
      "metadata": {
        "id": "Tmwao4DkElM9"
      },
      "execution_count": null,
      "outputs": []
    },
    {
      "cell_type": "code",
      "source": [
        "# Draw viz!\n",
        "import plotly.graph_objects\n",
        "plot_data = [\n",
        "    plotly.graph_objects.Sankey(\n",
        "        node=sankey_nodes,\n",
        "        link=sankey_links,\n",
        "        arrangement='perpendicular',\n",
        "    ),\n",
        "]\n",
        "\n",
        "fig = plotly.graph_objects.Figure(\n",
        "    data=plot_data,\n",
        ")\n",
        "\n",
        "fig.update_layout(\n",
        "    height=800,\n",
        ")\n",
        "\n",
        "fig.update_layout(\n",
        "    title=\"title\",\n",
        "    title_x=0.5,\n",
        ")\n",
        "fig.show()"
      ],
      "metadata": {
        "id": "eon-cs8CFg1Y"
      },
      "execution_count": null,
      "outputs": []
    }
  ]
}
